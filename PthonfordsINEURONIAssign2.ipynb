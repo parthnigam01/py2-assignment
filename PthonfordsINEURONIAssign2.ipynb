{
 "cells": [
  {
   "cell_type": "markdown",
   "metadata": {},
   "source": [
    "## ASSIGNMENT 2\n"
   ]
  },
  {
   "cell_type": "markdown",
   "metadata": {},
   "source": [
    "# TASK1 "
   ]
  },
  {
   "cell_type": "markdown",
   "metadata": {},
   "source": [
    "1. Write a Python Program to implement your own myreduce() function which works exactly like Python's built-in function reduce() "
   ]
  },
  {
   "cell_type": "code",
   "execution_count": 1,
   "metadata": {},
   "outputs": [],
   "source": [
    "# Sum of two number\n",
    "def sum(x,y): \n",
    "    return x + y\n",
    "\n",
    "# myReduce function\n",
    "def myreduce(gfun, myseq):\n",
    "    s = 0\n",
    "    for z in myseq:\n",
    "        s = gfun(s, z)\n",
    "    \n",
    "    return s"
   ]
  },
  {
   "cell_type": "code",
   "execution_count": 2,
   "metadata": {},
   "outputs": [
    {
     "name": "stdout",
     "output_type": "stream",
     "text": [
      "My Reduce function Result: 10\n"
     ]
    }
   ],
   "source": [
    "print(\"My Reduce function Result: {}\".format(myreduce(sum, [1,2,3,4])))"
   ]
  },
  {
   "cell_type": "markdown",
   "metadata": {},
   "source": [
    "1.2.Write a Python program to implement your own myfilter() function which works exactly like Python's built-in function filter() \n",
    " \n",
    " "
   ]
  },
  {
   "cell_type": "code",
   "execution_count": 3,
   "metadata": {},
   "outputs": [],
   "source": [
    "def myfilter(anyfunc, sequence):\n",
    "    # Initialize empty list\n",
    "    seq = []    \n",
    "    # iterate over sequence of items in sequence and apply filter function\n",
    "    for item in sequence:\n",
    "        if anyfunc(item):\n",
    "            seq.append(item)\n",
    "    # return funal output\n",
    "    return seq\n",
    "\n",
    "# myfilter Calling Function\n",
    "def func(x):\n",
    "    if x>=3:\n",
    "        return x"
   ]
  },
  {
   "cell_type": "code",
   "execution_count": 4,
   "metadata": {},
   "outputs": [
    {
     "name": "stdout",
     "output_type": "stream",
     "text": [
      "My filter function Result: [3, 4, 10, 11, 12]\n"
     ]
    }
   ],
   "source": [
    "print(\"My filter function Result: {}\".format(myfilter(func, [1,2,3,-3,4,-5,10,-10,11,12])))"
   ]
  },
  {
   "cell_type": "markdown",
   "metadata": {},
   "source": [
    "2. Implement List comprehensions to produce the following lists.\n",
    "Write List comprehensions to produce the following Lists\n",
    "['A', 'C', 'A', 'D', 'G', 'I', ’L’, ‘ D’]\n",
    "['x', 'xx', 'xxx', 'xxxx', 'y', 'yy', 'yyy', 'yyyy', 'z', 'zz', 'zzz', 'zzzz']\n",
    "['x', 'y', 'z', 'xx', 'yy', 'zz', 'xx', 'yy', 'zz', 'xxxx', 'yyyy', 'zzzz']\n",
    "[[2], [3], [4], [3], [4], [5], [4], [5], [6]]\n",
    "[[2, 3, 4, 5], [3, 4, 5, 6], [4, 5, 6, 7], [5, 6, 7, 8]]\n",
    "[(1, 1), (2, 1), (3, 1), (1, 2), (2, 2), (3, 2), (1, 3), (2, 3), (3, 3)]"
   ]
  },
  {
   "cell_type": "code",
   "execution_count": 5,
   "metadata": {},
   "outputs": [
    {
     "name": "stdout",
     "output_type": "stream",
     "text": [
      "ACADGILD => ['A', 'C', 'A', 'D', 'G', 'I', 'L', 'D']\n",
      "['x','y','z'] => ['x', 'xx', 'xxx', 'xxxx', 'y', 'yy', 'yyy', 'yyyy', 'z', 'zz', 'zzz', 'zzzz']\n",
      "['x','y','z'] => ['x', 'y', 'z', 'xx', 'yy', 'zz', 'xxx', 'yyy', 'zzz', 'xxxx', 'yyyy', 'zzzz']\n",
      "[2,3,4] =>[[2], [3], [4], [3], [4], [5], [4], [5], [6]]\n",
      "[2,3,4,5] =>[[2, 3, 4, 5], [3, 4, 5, 6], [4, 5, 6, 7], [5, 6, 7, 8]]\n",
      "[1,2,3] =>[(1, 1), (2, 1), (3, 1), (1, 2), (2, 2), (3, 2), (1, 3), (2, 3), (3, 3)]\n"
     ]
    }
   ],
   "source": [
    "word = \"ACADGILD\"\n",
    "alphabet_list = [ alphabet for alphabet in word ]\n",
    "print (\"ACADGILD => \" + str(alphabet_list))\n",
    "\n",
    "#########\n",
    "# Compress above for loop into a single list comprehension using technique [i <Upper for condition> <lower for condition>]\n",
    "input_list = ['x','y','z']\n",
    "result = [ item*num for item in input_list for num in range(1,5)  ]\n",
    "print(\"['x','y','z'] => \" +   str(result))\n",
    "\n",
    "#########\n",
    "# Compress above for loop into a single list comprehension using technique [i <Upper for condition> <lower for condition>]\n",
    "input_list = ['x','y','z']\n",
    "result = [ item*num for num in range(1,5) for item in input_list  ]\n",
    "print(\"['x','y','z'] => \" +   str(result))\n",
    "\n",
    "#########\n",
    "input_list = [2,3,4]\n",
    "result = [ [item+num] for item in input_list for num in range(0,3)]\n",
    "print(\"[2,3,4] =>\" +  str(result))\n",
    "\n",
    "#########\n",
    "input_list = [2,3,4,5]\n",
    "result = [ [item+num for item in input_list] for num in range(0,4)  ]\n",
    "print(\"[2,3,4,5] =>\" +  str(result))\n",
    "\n",
    "#########\n",
    "input_list=[1,2,3]\n",
    "result = [ (b,a) for a in input_list for b in input_list]\n",
    "print(\"[1,2,3] =>\" +  str(result))\n",
    "\n",
    "#########"
   ]
  },
  {
   "cell_type": "code",
   "execution_count": 6,
   "metadata": {},
   "outputs": [
    {
     "name": "stdout",
     "output_type": "stream",
     "text": [
      "Please input a list of words to evaluate: parth nigam satna \n",
      "The longest word is parth with length 5\n"
     ]
    }
   ],
   "source": [
    "def main():\n",
    "    text = input(\"Please input a list of words to evaluate: \")\n",
    "\n",
    "    longest = 0\n",
    "\n",
    "    for words in text.split():\n",
    "        if len(words) > longest:\n",
    "            longest = len(words)\n",
    "            longest_word = words\n",
    "\n",
    "    print(\"The longest word is\", longest_word, \"with length\", len(longest_word))\n",
    "\n",
    "main() "
   ]
  },
  {
   "cell_type": "markdown",
   "metadata": {},
   "source": [
    "## TASK2"
   ]
  },
  {
   "cell_type": "markdown",
   "metadata": {},
   "source": [
    "1.Write a Python Program(with class concepts) to find the area of the triangle using the below formula. \n",
    " \n",
    "area = (s*(s-a)*(s-b)*(s-c)) ** 0.5 \n",
    " \n",
    "Function to take the length of the sides of triangle from user should be defined in the parent class and function to calculate the area should be defined in subclass. \n",
    " \n",
    " "
   ]
  },
  {
   "cell_type": "code",
   "execution_count": 7,
   "metadata": {},
   "outputs": [],
   "source": [
    "class Polygon:\n",
    "\n",
    "    def __init__(self, n):\n",
    "        self.number_of_sides = n\n",
    "\n",
    "    def print_num_sides(self):\n",
    "    \n",
    "        print('There are ' + str(self.number_of_sides) + ' sides.')\n",
    "        \n",
    "        \n",
    "class Triangle(Polygon):\n",
    "\n",
    "    def __init__(self, lengths_of_sides):\n",
    "        Polygon.__init__(self, 3)\n",
    "        self.lengths_of_sides = lengths_of_sides  \n",
    "\n",
    "    def get_area(self):\n",
    "\n",
    "        a, b, c = self.lengths_of_sides\n",
    "\n",
    "        s = (a + b + c) / 2\n",
    "        return (s*(s-a)*(s-b)*(s-c)) ** 0.5\n"
   ]
  },
  {
   "cell_type": "code",
   "execution_count": 8,
   "metadata": {},
   "outputs": [
    {
     "name": "stdout",
     "output_type": "stream",
     "text": [
      "There are 3 sides.\n",
      "6.0\n"
     ]
    }
   ],
   "source": [
    "p = Polygon(3)\n",
    "p.print_num_sides() \n",
    "tri = Triangle([3, 4, 5])\n",
    "print(tri.get_area())  "
   ]
  },
  {
   "cell_type": "markdown",
   "metadata": {},
   "source": [
    "1.2 Write a function filter_long_words() that takes a list of words and an integer n and returns the list of words that are longer than n."
   ]
  },
  {
   "cell_type": "code",
   "execution_count": 9,
   "metadata": {},
   "outputs": [
    {
     "name": "stdout",
     "output_type": "stream",
     "text": [
      "Please input the list of words: hey this is parth\n",
      "Please input an integer: 4\n",
      "The list of words greater than the integer is []\n"
     ]
    }
   ],
   "source": [
    "def filterlongword(string,number):\n",
    "\n",
    "    for i in range(len(string)):\n",
    "        listwords = []\n",
    "        if len(string[i]) > number:\n",
    "            listwords.append(string[i])\n",
    "\n",
    "        return listwords \n",
    "\n",
    "\n",
    "def main():\n",
    "    words = input(\"Please input the list of words: \")\n",
    "    integer = eval(input(\"Please input an integer: \"))\n",
    "\n",
    "    words1 = filterlongword(words,integer)\n",
    "\n",
    "    print(\"The list of words greater than the integer is\",words1)\n",
    "main()\n"
   ]
  },
  {
   "cell_type": "markdown",
   "metadata": {},
   "source": [
    "2.1 Write a Python program using function concept that maps list of words into a list of integers representing the lengths of the corresponding words . Hint: If a list [ ab,cde,erty] is passed on to the python function output should come as [2,3,4]. Here 2,3 and 4 are the lengths of the words in the list."
   ]
  },
  {
   "cell_type": "code",
   "execution_count": 10,
   "metadata": {},
   "outputs": [
    {
     "name": "stdout",
     "output_type": "stream",
     "text": [
      "Word Length in List => [2, 7, 4, 2, 5]\n"
     ]
    }
   ],
   "source": [
    "wordList = [\"My\", \"Country\", \"Name\", \"is\", \"India\"]\n",
    "#Get the word Length\n",
    "def wordLength(wordList):\n",
    "    myList = list(map(len, wordList))\n",
    "    return myList\n",
    "\n",
    "print(\"Word Length in List => {}\".format(wordLength(wordList)))"
   ]
  },
  {
   "cell_type": "markdown",
   "metadata": {},
   "source": [
    "2.2 Write a Python function which takes a character (i.e. a string of length 1) and returns True if it is a vowel, False otherwise."
   ]
  },
  {
   "cell_type": "code",
   "execution_count": 12,
   "metadata": {},
   "outputs": [
    {
     "name": "stdout",
     "output_type": "stream",
     "text": [
      "Please input char: P\n",
      "Test Chart Result: False\n"
     ]
    }
   ],
   "source": [
    "def Isvowel(myChar):\n",
    "    vowels = 'aeiou'\n",
    "    if myChar.lower() in vowels:\n",
    "        return True\n",
    "    else:\n",
    "        return False\n",
    "def main():\n",
    "    testChar = input(\"Please input char: \")\n",
    "    print(\"Test Chart Result: {}\".format(Isvowel(testChar)))\n",
    "main()"
   ]
  },
  {
   "cell_type": "code",
   "execution_count": null,
   "metadata": {},
   "outputs": [],
   "source": []
  },
  {
   "cell_type": "code",
   "execution_count": null,
   "metadata": {},
   "outputs": [],
   "source": []
  },
  {
   "cell_type": "code",
   "execution_count": null,
   "metadata": {},
   "outputs": [],
   "source": []
  }
 ],
 "metadata": {
  "kernelspec": {
   "display_name": "Python 3",
   "language": "python",
   "name": "python3"
  },
  "language_info": {
   "codemirror_mode": {
    "name": "ipython",
    "version": 3
   },
   "file_extension": ".py",
   "mimetype": "text/x-python",
   "name": "python",
   "nbconvert_exporter": "python",
   "pygments_lexer": "ipython3",
   "version": "3.7.6"
  }
 },
 "nbformat": 4,
 "nbformat_minor": 4
}
